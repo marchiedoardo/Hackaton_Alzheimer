{
 "cells": [
  {
   "cell_type": "code",
   "execution_count": 2,
   "metadata": {},
   "outputs": [
    {
     "name": "stdout",
     "output_type": "stream",
     "text": [
      "Requirement already satisfied: scikit-learn in c:\\users\\edo13\\appdata\\local\\packages\\pythonsoftwarefoundation.python.3.11_qbz5n2kfra8p0\\localcache\\local-packages\\python311\\site-packages (1.5.2)\n",
      "Requirement already satisfied: numpy>=1.19.5 in c:\\users\\edo13\\appdata\\local\\packages\\pythonsoftwarefoundation.python.3.11_qbz5n2kfra8p0\\localcache\\local-packages\\python311\\site-packages (from scikit-learn) (1.26.4)\n",
      "Requirement already satisfied: scipy>=1.6.0 in c:\\users\\edo13\\appdata\\local\\packages\\pythonsoftwarefoundation.python.3.11_qbz5n2kfra8p0\\localcache\\local-packages\\python311\\site-packages (from scikit-learn) (1.13.1)\n",
      "Requirement already satisfied: joblib>=1.2.0 in c:\\users\\edo13\\appdata\\local\\packages\\pythonsoftwarefoundation.python.3.11_qbz5n2kfra8p0\\localcache\\local-packages\\python311\\site-packages (from scikit-learn) (1.4.2)\n",
      "Requirement already satisfied: threadpoolctl>=3.1.0 in c:\\users\\edo13\\appdata\\local\\packages\\pythonsoftwarefoundation.python.3.11_qbz5n2kfra8p0\\localcache\\local-packages\\python311\\site-packages (from scikit-learn) (3.5.0)\n"
     ]
    },
    {
     "name": "stderr",
     "output_type": "stream",
     "text": [
      "\n",
      "[notice] A new release of pip is available: 24.0 -> 25.0.1\n",
      "[notice] To update, run: C:\\Users\\edo13\\AppData\\Local\\Microsoft\\WindowsApps\\PythonSoftwareFoundation.Python.3.11_qbz5n2kfra8p0\\python.exe -m pip install --upgrade pip\n"
     ]
    }
   ],
   "source": [
    "import sys\n",
    "!{sys.executable} -m pip install scikit-learn\n",
    "\n",
    "import pandas as pd \n",
    "import numpy as np\n",
    "import matplotlib.pyplot as plt\n",
    "\n",
    "from sklearn.pipeline import Pipeline \n",
    "from sklearn.ensemble import RandomForestClassifier\n",
    "from sklearn.decomposition import PCA\n",
    "from sklearn.preprocessing import StandardScaler, OneHotEncoder\n",
    "from sklearn.model_selection import train_test_split\n",
    "from sklearn.compose import ColumnTransformer\n",
    "from sklearn.linear_model import LogisticRegression, PassiveAggressiveClassifier\n",
    "\n",
    "from sklearn.metrics import confusion_matrix, ConfusionMatrixDisplay, accuracy_score, precision_score, recall_score\n",
    "from sklearn.ensemble import AdaBoostClassifier\n",
    "from sklearn import svm\n",
    "\n",
    "from sklearn.model_selection import RandomizedSearchCV"
   ]
  },
  {
   "cell_type": "markdown",
   "metadata": {},
   "source": [
    "# DIAGNOSIS OF ALZHEIMERS'S PATIENTS FROM CLINICAL DATA "
   ]
  },
  {
   "cell_type": "code",
   "execution_count": null,
   "metadata": {},
   "outputs": [],
   "source": [
    "# Import the train.csv data\n",
    "# WARNING: the test.csv dataset does not contain the diagnosis column\n",
    "\n",
    "file = \"/PATH/alzheimers-disease-risk-prediction-eu-business/train.csv\"\n",
    "\n",
    "data = pd.read_csv(file)"
   ]
  },
  {
   "cell_type": "code",
   "execution_count": 4,
   "metadata": {},
   "outputs": [],
   "source": [
    "### define sublists of features\n",
    "\n",
    "demographics = list(data.columns[1:5])\n",
    "lifestyle = list(data.columns[5:11])\n",
    "med_history = list(data.columns[11:17])\n",
    "clinical_measurements = list(data.columns[17:23])\n",
    "assessments = list(data.columns[23:28])\n",
    "symptoms = list(data.columns[28:33])\n",
    "diagnosis = list(data.columns[33:34])"
   ]
  },
  {
   "cell_type": "code",
   "execution_count": 6,
   "metadata": {},
   "outputs": [],
   "source": [
    "### define a list of features sublists\n",
    "\n",
    "categories = [demographics,\n",
    "lifestyle,\n",
    "med_history,\n",
    "clinical_measurements, \n",
    "assessments,\n",
    "symptoms,\n",
    "diagnosis]"
   ]
  },
  {
   "cell_type": "code",
   "execution_count": 7,
   "metadata": {},
   "outputs": [],
   "source": [
    "# split the features in numerical and categorical ones\n",
    "\n",
    "numerical = [\"Age\", \n",
    "             \"BMI\", \n",
    "             \"AlcoholConsumption\", \n",
    "             \"PhysicalActivity\", \n",
    "             \"DietQuality\", \n",
    "             \"SleepQuality\", \n",
    "             \"SystolicBP\", \n",
    "             \"DiastolicBP\", \n",
    "             \"CholesterolTotal\", \n",
    "             \"CholesterolLDL\",\n",
    "             \"CholesterolHDL\",\n",
    "             \"CholesterolTriglycerides\", \n",
    "             \"MMSE\", \n",
    "             \"FunctionalAssessment\", \n",
    "             \"ADL\"]\n",
    "\n",
    "categorical = list( set( data.columns.to_list() ) - set( numerical ) - set( [\"Diagnosis\", \"PatientID\", \"DoctorInCharge\"] ) )"
   ]
  },
  {
   "cell_type": "markdown",
   "metadata": {},
   "source": [
    "## A couple of useful functions..."
   ]
  },
  {
   "cell_type": "code",
   "execution_count": 8,
   "metadata": {},
   "outputs": [],
   "source": [
    "## function that perform a fit with using a given classifier and return the pipeline, test datasets and the prediction\n",
    "## the function take as input the dataset, the lists of all categorical and numerical data, a features list and a classifier\n",
    "\n",
    "def complete_fit( data, categorical, numerical, features_sublist, classifier = RandomForestClassifier()):\n",
    "\n",
    "    # define the categorical and numerical transformers\n",
    "    categorical_transformer = Pipeline( [ (\"encoder\", OneHotEncoder()) ] )\n",
    "    numerical_transformer = Pipeline( [ (\"scaler\", StandardScaler()) ] )\n",
    "    \n",
    "    # define the lists of categorical and numerical sublists of features\n",
    "    categorical_subset = list( set(features_sublist) & set(categorical) )\n",
    "    numerical_subset = list( set(features_sublist) & set(numerical) )\n",
    "\n",
    "    # define the preprocessor that apply different transformations on numerical and categorical features\n",
    "    preprocessor = ColumnTransformer( transformers = [ (\"num\", numerical_transformer, numerical_subset),\n",
    "                                                       (\"cat\", categorical_transformer, categorical_subset) ] )\n",
    "    \n",
    "    # define the explanatory data and the variable to predict\n",
    "    x = data[numerical_subset + categorical_subset]\n",
    "    y = data[\"Diagnosis\"]\n",
    "\n",
    "    # split the dataset into train/test subdatasets\n",
    "    x_train, x_test, y_train, y_test = train_test_split(x, y, test_size = 0.2)\n",
    "\n",
    "    # create pipeline with the given classifier and fit\n",
    "    pipeline = Pipeline( [ (\"preprocessor\", preprocessor),\n",
    "                           (\"classifier\", classifier) ] )\n",
    "    \n",
    "    pipeline.fit(x_train, y_train)\n",
    "\n",
    "    return pipeline, x_test, y_test, pipeline.predict(x_test)\n"
   ]
  },
  {
   "cell_type": "code",
   "execution_count": 12,
   "metadata": {},
   "outputs": [],
   "source": [
    "## function that computes three performance scores (accuracy, precision and recall)\n",
    "\n",
    "def scores(pipeline, x_test, y_test):\n",
    "    \n",
    "    y_pred = pipeline.predict(x_test)\n",
    "\n",
    "    return {\"accuracy\": accuracy_score(y_test, y_pred), \n",
    "            \"precision\" : precision_score(y_test, y_pred), \n",
    "            \"recall\" : recall_score(y_test, y_pred)}"
   ]
  },
  {
   "cell_type": "markdown",
   "metadata": {},
   "source": [
    "## Prediction using all the given features (RANDOM FOREST)"
   ]
  },
  {
   "cell_type": "code",
   "execution_count": null,
   "metadata": {},
   "outputs": [],
   "source": [
    "pipeline, x_test, y_test, y_pred = complete_fit(data, \n",
    "                                                categorical, \n",
    "                                                numerical, \n",
    "                                                list(data.columns[1:33]),\n",
    "                                                classifier = RandomForestClassifier()\n",
    "                                                )"
   ]
  },
  {
   "cell_type": "code",
   "execution_count": 13,
   "metadata": {},
   "outputs": [
    {
     "data": {
      "text/plain": [
       "{'accuracy': 0.9244186046511628,\n",
       " 'precision': 0.9134615384615384,\n",
       " 'recall': 0.8482142857142857}"
      ]
     },
     "execution_count": 13,
     "metadata": {},
     "output_type": "execute_result"
    }
   ],
   "source": [
    "scores(pipeline, x_test, y_test)"
   ]
  },
  {
   "cell_type": "markdown",
   "metadata": {},
   "source": [
    "Very good performance with Random Forest, even though the recall is slightly worse than the other scores"
   ]
  },
  {
   "cell_type": "code",
   "execution_count": 14,
   "metadata": {},
   "outputs": [
    {
     "data": {
      "text/plain": [
       "<sklearn.metrics._plot.confusion_matrix.ConfusionMatrixDisplay at 0x105cc2b8b50>"
      ]
     },
     "execution_count": 14,
     "metadata": {},
     "output_type": "execute_result"
    },
    {
     "data": {
      "image/png": "[encoded data removed]",
      "text/plain": [
       "<Figure size 640x480 with 2 Axes>"
      ]
     },
     "metadata": {},
     "output_type": "display_data"
    }
   ],
   "source": [
    "## call confusion matrix and plot \n",
    "\n",
    "cm = confusion_matrix(y_test, y_pred)\n",
    "\n",
    "ConfusionMatrixDisplay(cm).plot()"
   ]
  },
  {
   "cell_type": "markdown",
   "metadata": {},
   "source": [
    "The confusion matrix agrees with the scores. The false negatives are worse than the false positives (that's way the recall is lower). Now we find the most important features."
   ]
  },
  {
   "cell_type": "code",
   "execution_count": 18,
   "metadata": {},
   "outputs": [],
   "source": [
    "## extract features importance from the fit  \n",
    "\n",
    "model = pipeline.named_steps[\"classifier\"] \n",
    "features_imp = model.feature_importances_\n",
    "\n",
    "preprocessor = pipeline.named_steps[\"preprocessor\"]\n",
    "features_names = preprocessor.get_feature_names_out()"
   ]
  },
  {
   "cell_type": "code",
   "execution_count": 41,
   "metadata": {},
   "outputs": [],
   "source": [
    "## sort the features by their importance\n",
    "## NOTICE: I cut the first 5 characters of each name that are just the type of the feature (num or cat)\n",
    "\n",
    "features_sorted = sorted( [(features_names[i][5:], features_imp[i]) for i in range(len(features_names)) ], key = lambda x : -x[1] )"
   ]
  },
  {
   "cell_type": "code",
   "execution_count": 51,
   "metadata": {},
   "outputs": [
    {
     "data": {
      "text/plain": [
       "[('FunctionalAssessment', 0.1798947149929465),\n",
       " ('ADL', 0.15913350681241445),\n",
       " ('MMSE', 0.10978769944830821),\n",
       " ('MemoryComplaints_1', 0.04961264465641741),\n",
       " ('MemoryComplaints_0', 0.041459994333205095),\n",
       " ('CholesterolHDL', 0.03134360541295135),\n",
       " ('CholesterolTriglycerides', 0.028438780575894877),\n",
       " ('PhysicalActivity', 0.028177840365670934),\n",
       " ('CholesterolTotal', 0.02641598229115212),\n",
       " ('AlcoholConsumption', 0.025860671284970927),\n",
       " ('DietQuality', 0.025792435558348543),\n",
       " ('SleepQuality', 0.02561121972589361),\n",
       " ('BMI', 0.02559891392312258),\n",
       " ('BehavioralProblems_1', 0.02525270368625128),\n",
       " ('CholesterolLDL', 0.02506738313594053),\n",
       " ('BehavioralProblems_0', 0.02340148762545401),\n",
       " ('Age', 0.021881912060835403),\n",
       " ('DiastolicBP', 0.021760159091414284),\n",
       " ('SystolicBP', 0.021418840272901137),\n",
       " ('EducationLevel_0', 0.004644433832428427),\n",
       " ('Forgetfulness_0', 0.004299578166884677),\n",
       " ('Ethnicity_1', 0.004219688085240025),\n",
       " ('EducationLevel_3', 0.003821725483306624),\n",
       " ('Ethnicity_0', 0.0037449738929996768),\n",
       " ('Forgetfulness_1', 0.0037328509288462775),\n",
       " ('Gender_1', 0.003625047440404665),\n",
       " ('EducationLevel_2', 0.00356851175082676),\n",
       " ('Depression_1', 0.003552067387053968),\n",
       " ('Gender_0', 0.003544313519531921),\n",
       " ('FamilyHistoryAlzheimers_0', 0.0033900243578679685),\n",
       " ('EducationLevel_1', 0.0033773401412746976),\n",
       " ('Confusion_1', 0.0033008138348836966),\n",
       " ('Smoking_1', 0.0032327272127640025),\n",
       " ('Diabetes_1', 0.0030874193859385143),\n",
       " ('FamilyHistoryAlzheimers_1', 0.0029939958401373496),\n",
       " ('DifficultyCompletingTasks_0', 0.0029145654753036407),\n",
       " ('Disorientation_0', 0.002883800299762753),\n",
       " ('DifficultyCompletingTasks_1', 0.0028735618389789507),\n",
       " ('Confusion_0', 0.002842815744520081),\n",
       " ('Hypertension_1', 0.0028425815911476897),\n",
       " ('Smoking_0', 0.0027569703581650923),\n",
       " ('HeadInjury_0', 0.002624703316887267),\n",
       " ('PersonalityChanges_0', 0.0025338478404338134),\n",
       " ('Ethnicity_3', 0.0024942682045581478),\n",
       " ('HeadInjury_1', 0.002478446234452085),\n",
       " ('Diabetes_0', 0.0024721806200807737),\n",
       " ('CardiovascularDisease_0', 0.0024640889177872985),\n",
       " ('Ethnicity_2', 0.0024367247631861275),\n",
       " ('CardiovascularDisease_1', 0.002410231604648138),\n",
       " ('Depression_0', 0.0023815371822509196),\n",
       " ('Disorientation_1', 0.0022242313710955394),\n",
       " ('Hypertension_0', 0.002221195669140745),\n",
       " ('PersonalityChanges_1', 0.0020982424531186252)]"
      ]
     },
     "execution_count": 51,
     "metadata": {},
     "output_type": "execute_result"
    }
   ],
   "source": [
    "features_sorted"
   ]
  },
  {
   "cell_type": "code",
   "execution_count": 50,
   "metadata": {},
   "outputs": [
    {
     "data": {
      "text/plain": [
       "Text(0, 0.5, 'Feature Importance')"
      ]
     },
     "execution_count": 50,
     "metadata": {},
     "output_type": "execute_result"
    },
    {
     "data": {
      "image/png": "[encoded data removed]",
      "text/plain": [
       "<Figure size 1300x600 with 1 Axes>"
      ]
     },
     "metadata": {},
     "output_type": "display_data"
    }
   ],
   "source": [
    "fig, ax = plt.subplots(1, 1, layout = 'tight', figsize = (13, 6))\n",
    "\n",
    "num_of_shown_feats = 7\n",
    "\n",
    "ax.bar( [ feat[0] for feat in features_sorted[:num_of_shown_feats] ] , [ feat[1] for feat in features_sorted[:num_of_shown_feats] ], width = 0.8 )\n",
    "\n",
    "ax.set_ylabel(\"Feature Importance\", fontsize = 15)"
   ]
  },
  {
   "cell_type": "markdown",
   "metadata": {},
   "source": [
    "The results indicate that some of the assessment features are the most important, followed by measured data like cholesterol and lifestyle features like Physical activity and alcohol consumption.\n",
    "Can our model classify the patients even without these assessment features?"
   ]
  },
  {
   "cell_type": "markdown",
   "metadata": {},
   "source": [
    "## Prediction without assessment features (RANDOM FOREST)"
   ]
  },
  {
   "cell_type": "code",
   "execution_count": 58,
   "metadata": {},
   "outputs": [],
   "source": [
    "features_sublist = list( set(data.columns[1:33]) - set(assessments) ) \n",
    "\n",
    "pipeline, x_test, y_test, y_pred = complete_fit(data, \n",
    "                                                categorical, \n",
    "                                                numerical, \n",
    "                                                features_sublist = features_sublist,\n",
    "                                                classifier = RandomForestClassifier()\n",
    "                                                )"
   ]
  },
  {
   "cell_type": "code",
   "execution_count": 59,
   "metadata": {},
   "outputs": [
    {
     "data": {
      "text/plain": [
       "{'accuracy': 0.6337209302325582,\n",
       " 'precision': 0.38461538461538464,\n",
       " 'recall': 0.04065040650406504}"
      ]
     },
     "execution_count": 59,
     "metadata": {},
     "output_type": "execute_result"
    }
   ],
   "source": [
    "scores(pipeline, x_test, y_test)"
   ]
  },
  {
   "cell_type": "markdown",
   "metadata": {},
   "source": [
    "Using all the features except the assessment ones the result is way worse..."
   ]
  },
  {
   "cell_type": "code",
   "execution_count": 60,
   "metadata": {},
   "outputs": [
    {
     "data": {
      "text/plain": [
       "<sklearn.metrics._plot.confusion_matrix.ConfusionMatrixDisplay at 0x105d36bc210>"
      ]
     },
     "execution_count": 60,
     "metadata": {},
     "output_type": "execute_result"
    },
    {
     "data": {
      "image/png": "[encoded data removed]",
      "text/plain": [
       "<Figure size 640x480 with 2 Axes>"
      ]
     },
     "metadata": {},
     "output_type": "display_data"
    }
   ],
   "source": [
    "## call confusion matrix and plot \n",
    "\n",
    "cm = confusion_matrix(y_test, y_pred)\n",
    "\n",
    "ConfusionMatrixDisplay(cm).plot()"
   ]
  },
  {
   "cell_type": "markdown",
   "metadata": {},
   "source": [
    "Without the assessment scores, almost all the patients are classified as healthy. The number of false negatives is extremely high."
   ]
  },
  {
   "cell_type": "code",
   "execution_count": 61,
   "metadata": {},
   "outputs": [],
   "source": [
    "## extract features importance from the fit  \n",
    "\n",
    "model = pipeline.named_steps[\"classifier\"] \n",
    "features_imp = model.feature_importances_\n",
    "\n",
    "preprocessor = pipeline.named_steps[\"preprocessor\"]\n",
    "features_names = preprocessor.get_feature_names_out()"
   ]
  },
  {
   "cell_type": "code",
   "execution_count": 62,
   "metadata": {},
   "outputs": [],
   "source": [
    "## sort the features by their importance\n",
    "## NOTICE: I cut the first 5 characters of each name that are just the type of the feature (num or cat)\n",
    "\n",
    "features_sorted = sorted( [(features_names[i][5:], features_imp[i]) for i in range(len(features_names)) ], key = lambda x : -x[1] )"
   ]
  },
  {
   "cell_type": "code",
   "execution_count": 63,
   "metadata": {},
   "outputs": [
    {
     "data": {
      "text/plain": [
       "[('SleepQuality', 0.06801810419266832),\n",
       " ('CholesterolTotal', 0.06785313291061154),\n",
       " ('CholesterolHDL', 0.06734715599446543),\n",
       " ('DietQuality', 0.06589524503214626),\n",
       " ('CholesterolTriglycerides', 0.06527056735449294),\n",
       " ('AlcoholConsumption', 0.0634621670036358),\n",
       " ('BMI', 0.06342576429743173),\n",
       " ('PhysicalActivity', 0.06310310935308479),\n",
       " ('CholesterolLDL', 0.06181707188827917),\n",
       " ('SystolicBP', 0.06102244804998096),\n",
       " ('DiastolicBP', 0.054735159504936924),\n",
       " ('Age', 0.05264366115467937),\n",
       " ('EducationLevel_1', 0.009205290553045562),\n",
       " ('Ethnicity_0', 0.009169632092706525),\n",
       " ('Forgetfulness_1', 0.009079373700026103),\n",
       " ('EducationLevel_2', 0.008988346105884512),\n",
       " ('EducationLevel_0', 0.008856523290101875),\n",
       " ('Smoking_0', 0.008715532351664437),\n",
       " ('Gender_0', 0.008607254446906116),\n",
       " ('Smoking_1', 0.00842513622464547),\n",
       " ('FamilyHistoryAlzheimers_1', 0.008270083691764562),\n",
       " ('Ethnicity_1', 0.008239164831187945),\n",
       " ('Gender_1', 0.008234712083964382),\n",
       " ('Depression_0', 0.007911072190514174),\n",
       " ('Forgetfulness_0', 0.007678340164230434),\n",
       " ('Depression_1', 0.007646509915285),\n",
       " ('Disorientation_1', 0.007301974900776923),\n",
       " ('Diabetes_1', 0.007278716901089236),\n",
       " ('DifficultyCompletingTasks_1', 0.007157676104212655),\n",
       " ('FamilyHistoryAlzheimers_0', 0.007020233426101899),\n",
       " ('EducationLevel_3', 0.00680456283820297),\n",
       " ('Disorientation_0', 0.0067708578145501555),\n",
       " ('CardiovascularDisease_0', 0.006663923465780945),\n",
       " ('CardiovascularDisease_1', 0.006502017367797697),\n",
       " ('Confusion_0', 0.006392016555678124),\n",
       " ('Diabetes_0', 0.006255017729343268),\n",
       " ('Ethnicity_3', 0.006196082802496305),\n",
       " ('Confusion_1', 0.00612479302528289),\n",
       " ('Hypertension_0', 0.006099143810836832),\n",
       " ('PersonalityChanges_1', 0.00606019108791613),\n",
       " ('Ethnicity_2', 0.005976309293816949),\n",
       " ('PersonalityChanges_0', 0.005965616764474732),\n",
       " ('DifficultyCompletingTasks_0', 0.0059439029817363815),\n",
       " ('Hypertension_1', 0.005753993833311894),\n",
       " ('HeadInjury_1', 0.005081803874391822),\n",
       " ('HeadInjury_0', 0.0050306070438620775)]"
      ]
     },
     "execution_count": 63,
     "metadata": {},
     "output_type": "execute_result"
    }
   ],
   "source": [
    "features_sorted"
   ]
  },
  {
   "cell_type": "code",
   "execution_count": 64,
   "metadata": {},
   "outputs": [
    {
     "data": {
      "text/plain": [
       "Text(0, 0.5, 'Feature Importance')"
      ]
     },
     "execution_count": 64,
     "metadata": {},
     "output_type": "execute_result"
    },
    {
     "data": {
      "image/png": "[encoded data removed]",
      "text/plain": [
       "<Figure size 1300x600 with 1 Axes>"
      ]
     },
     "metadata": {},
     "output_type": "display_data"
    }
   ],
   "source": [
    "fig, ax = plt.subplots(1, 1, layout = 'tight', figsize = (13, 6))\n",
    "\n",
    "num_of_shown_feats = 7\n",
    "\n",
    "ax.bar( [ feat[0] for feat in features_sorted[:num_of_shown_feats] ] , [ feat[1] for feat in features_sorted[:num_of_shown_feats] ], width = 0.8 )\n",
    "\n",
    "ax.set_ylabel(\"Feature Importance\", fontsize = 15)"
   ]
  },
  {
   "cell_type": "markdown",
   "metadata": {},
   "source": [
    "The most important features are again measured data like cholesterol and lifestyle features like Sleep Quality, Physical activity and alcohol consumption."
   ]
  },
  {
   "cell_type": "markdown",
   "metadata": {},
   "source": [
    "# WHAT NEXT ? "
   ]
  },
  {
   "cell_type": "markdown",
   "metadata": {},
   "source": [
    "- perform an exploration of the hyperparameters to identify the optimal ones\n",
    "- try different classifiers (already tried LogisticRegression, PassiveAggressiveClassifier, AdaBoost. Random Forest is currently the best one)."
   ]
  },
  {
   "cell_type": "markdown",
   "metadata": {},
   "source": []
  }
 ],
 "metadata": {
  "kernelspec": {
   "display_name": "Python 3",
   "language": "python",
   "name": "python3"
  },
  "language_info": {
   "codemirror_mode": {
    "name": "ipython",
    "version": 3
   },
   "file_extension": ".py",
   "mimetype": "text/x-python",
   "name": "python",
   "nbconvert_exporter": "python",
   "pygments_lexer": "ipython3",
   "version": "3.11.9"
  }
 },
 "nbformat": 4,
 "nbformat_minor": 2
}
